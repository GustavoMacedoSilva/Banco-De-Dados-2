{
 "cells": [
  {
   "cell_type": "code",
   "execution_count": null,
   "metadata": {},
   "outputs": [],
   "source": [
    "import threading\n",
    "import time\n",
    "import random\n",
    "from pymongo import MongoClient\n",
    "\n",
    "#conectando com o mongo\n",
    "client = MongoClient(\"mongodb://localhost:27017/\")\n",
    "db = client[\"bancoiot\"]\n",
    "collection = db[\"sensores\"]"
   ]
  },
  {
   "cell_type": "markdown",
   "metadata": {},
   "source": [
    "conexção mongo"
   ]
  },
  {
   "cell_type": "code",
   "execution_count": null,
   "metadata": {},
   "outputs": [],
   "source": [
    "sensores = [\n",
    "    {\"nomeSensor\": \"Sensor1\", \"valorSensor\": None, \"unidadeMedida\": \"C°\", \"sensorAlarmado\": False},\n",
    "    {\"nomeSensor\": \"Sensor2\", \"valorSensor\": None, \"unidadeMedida\": \"C°\", \"sensorAlarmado\": False},\n",
    "    {\"nomeSensor\": \"Sensor3\", \"valorSensor\": None, \"unidadeMedida\": \"C°\", \"sensorAlarmado\": False}\n",
    "]"
   ]
  },
  {
   "cell_type": "markdown",
   "metadata": {},
   "source": [
    "cria os sensores"
   ]
  },
  {
   "cell_type": "code",
   "execution_count": null,
   "metadata": {},
   "outputs": [],
   "source": [
    "for sensor in sensores:\n",
    "    collection.update_one({\"nomeSensor\": sensor[\"nomeSensor\"]}, {\"$setOnInsert\": sensor}, upsert=True)"
   ]
  },
  {
   "cell_type": "markdown",
   "metadata": {},
   "source": [
    "cria os sensores no banco de dados"
   ]
  },
  {
   "cell_type": "code",
   "execution_count": null,
   "metadata": {},
   "outputs": [],
   "source": [
    "def sensor_simulação(sensor):\n",
    "    while 1:\n",
    "        estado_sensor = collection.find_one({\"nomeSensor\": sensor})\n",
    "        \n",
    "        if estado_sensor[\"sensorAlarmado\"]:\n",
    "            print(f\"Atenção! Temperatura muito alta! Verificar Sensor {sensor}!\")\n",
    "            break\n",
    "        \n",
    "        valor_temp = random.uniform(30, 40)\n",
    "        print(f\"{sensor} - Temperatura: {valor_temp:.2f} C°\")\n",
    "        \n",
    "        collection.update_one(\n",
    "            {\"nomeSensor\": sensor},\n",
    "            {\"$set\": {\"valorSensor\": valor_temp, \"sensorAlarmado\": valor_temp > 38}}\n",
    "        )\n",
    "\n",
    "        if valor_temp > 38:\n",
    "            print(f\"Atenção! Temperatura muito alta! Verificar {sensor}!\")\n",
    "            break\n",
    "\n",
    "        time.sleep(2)"
   ]
  },
  {
   "cell_type": "markdown",
   "metadata": {},
   "source": [
    "faz a logica da thread"
   ]
  },
  {
   "cell_type": "code",
   "execution_count": null,
   "metadata": {},
   "outputs": [],
   "source": [
    "s1 = threading.Thread(target=sensor_simulação, args=(f\"Sensor{1}\",))\n",
    "s1.start()\n",
    "s2 = threading.Thread(target=sensor_simulação, args=(f\"Sensor{2}\",))\n",
    "s2.start()\n",
    "s3 = threading.Thread(target=sensor_simulação, args=(f\"Sensor{3}\",))\n",
    "s3.start()"
   ]
  },
  {
   "cell_type": "markdown",
   "metadata": {},
   "source": [
    "cria as threads e as starta"
   ]
  }
 ],
 "metadata": {
  "kernelspec": {
   "display_name": "Python 3",
   "language": "python",
   "name": "python3"
  },
  "language_info": {
   "name": "python",
   "version": "3.12.5"
  }
 },
 "nbformat": 4,
 "nbformat_minor": 2
}
